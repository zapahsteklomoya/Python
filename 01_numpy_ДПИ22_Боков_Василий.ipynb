{
  "cells": [
    {
      "cell_type": "markdown",
      "metadata": {
        "id": "SosEZ47Uw0ss"
      },
      "source": [
        "# Numpy"
      ]
    },
    {
      "cell_type": "markdown",
      "metadata": {
        "id": "LXjW9QlYw0tR"
      },
      "source": [
        "## Лабораторная работа №1"
      ]
    },
    {
      "cell_type": "markdown",
      "metadata": {
        "id": "QZ7qmIM_w0tS"
      },
      "source": [
        "Замечание: при решении данных задач не подразумевается использования циклов или генераторов Python, если в задании не сказано обратного. Решение должно опираться на использования функционала библиотеки `numpy`."
      ]
    },
    {
      "cell_type": "code",
      "source": [
        "import numpy as np"
      ],
      "metadata": {
        "id": "9G7C2hXEKzom"
      },
      "execution_count": null,
      "outputs": []
    },
    {
      "cell_type": "markdown",
      "metadata": {
        "id": "dYoFUpO-w0tS"
      },
      "source": [
        "1. Файл `minutes_n_ingredients.csv` содержит информацию об идентификаторе рецепта, времени его выполнения в минутах и количестве необходимых ингредиентов. Считайте данные из этого файла в виде массива `numpy` типа `int32`, используя `np.loadtxt`. Выведите на экран первые 5 строк массива."
      ]
    },
    {
      "cell_type": "code",
      "source": [
        "everything = np.loadtxt('minutes_n_ingredients.csv', skiprows=1, delimiter=',', dtype=np.int32)\n",
        "print(everything[:5, :])"
      ],
      "metadata": {
        "id": "I2ZnEQYI1KEb",
        "colab": {
          "base_uri": "https://localhost:8080/"
        },
        "outputId": "4184f043-455a-46c6-a704-be7c93b4e206"
      },
      "execution_count": null,
      "outputs": [
        {
          "output_type": "stream",
          "name": "stdout",
          "text": [
            "[[127244     60     16]\n",
            " [ 23891     25      7]\n",
            " [ 94746     10      6]\n",
            " [ 67660      5      6]\n",
            " [157911     60     14]]\n"
          ]
        }
      ]
    },
    {
      "cell_type": "markdown",
      "metadata": {
        "id": "riVfUy5zw0tT"
      },
      "source": [
        "2. Вычислите среднее значение, минимум, максимум и медиану по каждому из столбцов, кроме первого."
      ]
    },
    {
      "cell_type": "code",
      "source": [
        "rec_mean = np.mean(everything[:, 1:], axis=0)\n",
        "print(rec_mean)"
      ],
      "metadata": {
        "colab": {
          "base_uri": "https://localhost:8080/"
        },
        "id": "Y4KVBdEN5QEy",
        "outputId": "a9aec6f9-cc88-48db-e490-7960c9b33b1f"
      },
      "execution_count": null,
      "outputs": [
        {
          "output_type": "stream",
          "name": "stdout",
          "text": [
            "[2.16010017e+04 9.05528000e+00]\n"
          ]
        }
      ]
    },
    {
      "cell_type": "code",
      "source": [
        "rec_min = np.amin(everything[:, 1:], axis=0)\n",
        "print(rec_min)"
      ],
      "metadata": {
        "colab": {
          "base_uri": "https://localhost:8080/"
        },
        "id": "UsScZuhkAs0z",
        "outputId": "0268de19-e99f-4a12-c3bc-f8c686a5c0a3"
      },
      "execution_count": null,
      "outputs": [
        {
          "output_type": "stream",
          "name": "stdout",
          "text": [
            "[0 1]\n"
          ]
        }
      ]
    },
    {
      "cell_type": "code",
      "source": [
        "rec_max = np.amax(everything[:, 1:], axis=0)\n",
        "print(rec_max)"
      ],
      "metadata": {
        "colab": {
          "base_uri": "https://localhost:8080/"
        },
        "id": "rcFJe6zrA0Gk",
        "outputId": "17e20d91-4c77-4774-a30f-341b2d738c81"
      },
      "execution_count": null,
      "outputs": [
        {
          "output_type": "stream",
          "name": "stdout",
          "text": [
            "[2147483647         39]\n"
          ]
        }
      ]
    },
    {
      "cell_type": "code",
      "source": [
        "rec_median = np.median(everything[:, 1:], axis=0)\n",
        "print(rec_median)"
      ],
      "metadata": {
        "colab": {
          "base_uri": "https://localhost:8080/"
        },
        "id": "ih4j_MKLA3SD",
        "outputId": "d8ae398c-1be7-4db1-f94f-03319129eb27"
      },
      "execution_count": null,
      "outputs": [
        {
          "output_type": "stream",
          "name": "stdout",
          "text": [
            "[40.  9.]\n"
          ]
        }
      ]
    },
    {
      "cell_type": "markdown",
      "metadata": {
        "id": "y77sMpPCw0tT"
      },
      "source": [
        "3. Ограничьте сверху значения продолжительности выполнения рецепта значением квантиля $q_{0.75}$. "
      ]
    },
    {
      "cell_type": "code",
      "source": [
        "q = np.quantile(everything[:, 1], 0.75)\n",
        "print(q)"
      ],
      "metadata": {
        "colab": {
          "base_uri": "https://localhost:8080/"
        },
        "id": "hzF3C1xxDcbr",
        "outputId": "a04cc5a4-5b44-41bf-9cf7-f720f231f5dc"
      },
      "execution_count": null,
      "outputs": [
        {
          "output_type": "stream",
          "name": "stdout",
          "text": [
            "65.0\n"
          ]
        }
      ]
    },
    {
      "cell_type": "code",
      "source": [
        "everything[:,1] = np.clip(everything[:, 1], None, q)"
      ],
      "metadata": {
        "id": "RXBU5dV6RGcT"
      },
      "execution_count": null,
      "outputs": []
    },
    {
      "cell_type": "code",
      "source": [
        "print(everything)"
      ],
      "metadata": {
        "colab": {
          "base_uri": "https://localhost:8080/"
        },
        "id": "cqE7q5eJTTQY",
        "outputId": "5668b1d5-3fdd-4d98-ed65-ecb5466d8ae9"
      },
      "execution_count": null,
      "outputs": [
        {
          "output_type": "stream",
          "name": "stdout",
          "text": [
            "[[127244     60     16]\n",
            " [ 23891     25      7]\n",
            " [ 94746     10      6]\n",
            " ...\n",
            " [498432     65     15]\n",
            " [370915      5      4]\n",
            " [ 81993     65     14]]\n"
          ]
        }
      ]
    },
    {
      "cell_type": "markdown",
      "metadata": {
        "id": "IGB73Culw0tT"
      },
      "source": [
        "4. Посчитайте, для скольких рецептов указана продолжительность, равная нулю. Замените для таких строк значение в данном столбце на 1."
      ]
    },
    {
      "cell_type": "code",
      "source": [
        "equal_zero = np.count_nonzero(everything[:,1]==0)\n",
        "print(equal_zero)"
      ],
      "metadata": {
        "colab": {
          "base_uri": "https://localhost:8080/"
        },
        "id": "6bU0Zj3yF6_o",
        "outputId": "5ab9c035-82c8-40e8-d3d0-324b914b1f69"
      },
      "execution_count": null,
      "outputs": [
        {
          "output_type": "stream",
          "name": "stdout",
          "text": [
            "479\n"
          ]
        }
      ]
    },
    {
      "cell_type": "code",
      "source": [
        "everything[:,1][everything[:,1] == 0] = 1\n",
        "print(everything) \n",
        "print(np.count_nonzero(everything[:,1]==0))"
      ],
      "metadata": {
        "colab": {
          "base_uri": "https://localhost:8080/"
        },
        "id": "VTBb_TTxI-E9",
        "outputId": "8e1c1183-e620-446e-a8cf-d4a6e03fb733"
      },
      "execution_count": null,
      "outputs": [
        {
          "output_type": "stream",
          "name": "stdout",
          "text": [
            "[[127244     60     16]\n",
            " [ 23891     25      7]\n",
            " [ 94746     10      6]\n",
            " ...\n",
            " [498432     65     15]\n",
            " [370915      5      4]\n",
            " [ 81993     65     14]]\n",
            "0\n"
          ]
        }
      ]
    },
    {
      "cell_type": "markdown",
      "metadata": {
        "id": "v9eVJUevw0tU"
      },
      "source": [
        "5. Посчитайте, сколько уникальных рецептов находится в датасете."
      ]
    },
    {
      "cell_type": "code",
      "source": [
        "num_unique = len(np.unique(everything[:,1:], axis=0))\n",
        "print(num_unique)"
      ],
      "metadata": {
        "colab": {
          "base_uri": "https://localhost:8080/"
        },
        "id": "J3OduJQKJ5Kx",
        "outputId": "5f706032-6b3c-4de5-affe-aa9917ff3e52"
      },
      "execution_count": null,
      "outputs": [
        {
          "output_type": "stream",
          "name": "stdout",
          "text": [
            "1135\n"
          ]
        }
      ]
    },
    {
      "cell_type": "markdown",
      "metadata": {
        "id": "nnMit8mnw0tU"
      },
      "source": [
        "6. Сколько и каких различных значений кол-ва ингредиентов присутвует в рецептах из датасета?"
      ]
    },
    {
      "cell_type": "code",
      "source": [
        "n_ingridiens, n_n = np.unique(everything[:,2], return_counts=True)\n",
        "unique_ingridients = np.full((len(n_ingridiens), 2), 0, dtype=np.int32)\n",
        "unique_ingridients[:,0] = n_ingridiens\n",
        "unique_ingridients[:,1] = n_n\n",
        "print(unique_ingridients)"
      ],
      "metadata": {
        "colab": {
          "base_uri": "https://localhost:8080/"
        },
        "id": "noidv6lOMS5F",
        "outputId": "d11164f8-e555-4abd-c556-60cf15ce48c9"
      },
      "execution_count": null,
      "outputs": [
        {
          "output_type": "stream",
          "name": "stdout",
          "text": [
            "[[    1    13]\n",
            " [    2   926]\n",
            " [    3  2895]\n",
            " [    4  5515]\n",
            " [    5  7913]\n",
            " [    6  9376]\n",
            " [    7 10628]\n",
            " [    8 10951]\n",
            " [    9 10585]\n",
            " [   10  9591]\n",
            " [   11  8297]\n",
            " [   12  6605]\n",
            " [   13  4997]\n",
            " [   14  3663]\n",
            " [   15  2595]\n",
            " [   16  1767]\n",
            " [   17  1246]\n",
            " [   18   790]\n",
            " [   19   573]\n",
            " [   20   376]\n",
            " [   21   217]\n",
            " [   22   161]\n",
            " [   23   105]\n",
            " [   24    69]\n",
            " [   25    50]\n",
            " [   26    28]\n",
            " [   27    16]\n",
            " [   28    16]\n",
            " [   29    12]\n",
            " [   30    12]\n",
            " [   31     3]\n",
            " [   32     1]\n",
            " [   33     2]\n",
            " [   34     1]\n",
            " [   35     3]\n",
            " [   37     1]\n",
            " [   39     1]]\n"
          ]
        }
      ]
    },
    {
      "cell_type": "markdown",
      "metadata": {
        "id": "HO_gGeBiw0tV"
      },
      "source": [
        "7. Создайте версию массива, содержащую информацию только о рецептах, состоящих не более чем из 5 ингредиентов."
      ]
    },
    {
      "cell_type": "code",
      "source": [
        "new = everything\n",
        "res = new[new[:,2] <= 5]\n",
        "print(res.shape)\n",
        "print(res)"
      ],
      "metadata": {
        "colab": {
          "base_uri": "https://localhost:8080/"
        },
        "id": "95eSPoBdNFOM",
        "outputId": "02ade47f-9657-43bc-b67f-2baa6770a763"
      },
      "execution_count": null,
      "outputs": [
        {
          "output_type": "stream",
          "name": "stdout",
          "text": [
            "(17262, 3)\n",
            "[[446597     15      5]\n",
            " [204134      5      3]\n",
            " [ 25623      6      4]\n",
            " ...\n",
            " [ 52088     60      5]\n",
            " [128811     15      4]\n",
            " [370915      5      4]]\n"
          ]
        }
      ]
    },
    {
      "cell_type": "markdown",
      "metadata": {
        "id": "-o0ltM_ww0tV"
      },
      "source": [
        "8. Для каждого рецепта посчитайте, сколько в среднем ингредиентов приходится на одну минуту рецепта. Найдите максимальное значение этой величины для всего датасета"
      ]
    },
    {
      "cell_type": "code",
      "source": [
        "a = everything[:, 1]\n",
        "b = everything[:, 2]\n",
        "c = np.divide(b, a)\n",
        "print(c)"
      ],
      "metadata": {
        "colab": {
          "base_uri": "https://localhost:8080/"
        },
        "id": "iT28HCW7PR8F",
        "outputId": "9a88ae45-ee24-4e2b-e315-bb68b8d2d0a7"
      },
      "execution_count": null,
      "outputs": [
        {
          "output_type": "stream",
          "name": "stdout",
          "text": [
            "[0.26666667 0.28       0.6        ... 0.23076923 0.8        0.21538462]\n"
          ]
        }
      ]
    },
    {
      "cell_type": "markdown",
      "metadata": {
        "id": "2hA_BflQw0tW"
      },
      "source": [
        "9. Вычислите среднее количество ингредиентов для топ-100 рецептов с наибольшей продолжительностью"
      ]
    },
    {
      "cell_type": "code",
      "source": [
        "minutes_sorted = everything[everything[:, 1].argsort()]\n",
        "top_100 = minutes_sorted[-100:, :]\n",
        "np.mean(top_100[:, 2])"
      ],
      "metadata": {
        "colab": {
          "base_uri": "https://localhost:8080/"
        },
        "id": "C1MXpwyxA_5K",
        "outputId": "c73a5b03-c358-4f25-c32e-d434ac6278df"
      },
      "execution_count": null,
      "outputs": [
        {
          "output_type": "execute_result",
          "data": {
            "text/plain": [
              "9.96"
            ]
          },
          "metadata": {},
          "execution_count": 18
        }
      ]
    },
    {
      "cell_type": "markdown",
      "metadata": {
        "id": "Yy8sxFFXw0tW"
      },
      "source": [
        "10. Выберите случайным образом и выведите информацию о 10 различных рецептах"
      ]
    },
    {
      "cell_type": "code",
      "source": [
        "ids = np.random.choice(everything[:,0], size=10, replace=False)\n",
        "mask = np.isin(everything[:,0], ids)\n",
        "print(everything[mask])"
      ],
      "metadata": {
        "colab": {
          "base_uri": "https://localhost:8080/"
        },
        "id": "gQ-YjJSVDrHx",
        "outputId": "3f544b79-e605-461d-e0f0-b71e4baef2d2"
      },
      "execution_count": null,
      "outputs": [
        {
          "output_type": "stream",
          "name": "stdout",
          "text": [
            "[[ 59155     65     10]\n",
            " [382629     25      6]\n",
            " [ 65947     65     13]\n",
            " [107863     40     12]\n",
            " [107545     65     12]\n",
            " [191198     30     12]\n",
            " [282319      5      6]\n",
            " [226503     38     14]\n",
            " [499511     35     19]\n",
            " [172498     65      9]]\n"
          ]
        }
      ]
    },
    {
      "cell_type": "markdown",
      "metadata": {
        "id": "mdF9wpDZw0tX"
      },
      "source": [
        "11. Выведите процент рецептов, кол-во ингредиентов в которых меньше среднего."
      ]
    },
    {
      "cell_type": "code",
      "source": [
        "less_mean = np.count_nonzero(everything[:,2] < rec_mean[1])\n",
        "percent_less_mean = less_mean / len(everything[:,2]) * 100\n",
        "print(percent_less_mean)"
      ],
      "metadata": {
        "colab": {
          "base_uri": "https://localhost:8080/"
        },
        "id": "DgOj7_DSJTUp",
        "outputId": "8932b0a0-f324-4abc-8720-82f5f060c462"
      },
      "execution_count": null,
      "outputs": [
        {
          "output_type": "stream",
          "name": "stdout",
          "text": [
            "58.802\n"
          ]
        }
      ]
    },
    {
      "cell_type": "markdown",
      "metadata": {
        "id": "pE8d32Lqw0tX"
      },
      "source": [
        "12. Назовем \"простым\" такой рецепт, длительность выполнения которого не больше 20 минут и кол-во ингредиентов в котором не больше 5. Создайте версию датасета с дополнительным столбцом, значениями которого являются 1, если рецепт простой, и 0 в противном случае."
      ]
    },
    {
      "cell_type": "code",
      "source": [
        "show_easy = np.full((len(everything[:,1]), 4), 0, dtype=np.int32)\n",
        "show_easy[:, :3] = everything;\n",
        "show_easy[:, 3] = np.where((show_easy[:, 1]<20) & (show_easy[:, 2] <= 5), 1, 0)\n",
        "print(show_easy)\n",
        "easy_number = np.count_nonzero(show_easy[:,3]==1)\n",
        "print(easy_number)"
      ],
      "metadata": {
        "colab": {
          "base_uri": "https://localhost:8080/"
        },
        "id": "Q2EJpNA_bkZe",
        "outputId": "b5eb01a2-b57f-4a15-ab8c-6d2cc22bdffd"
      },
      "execution_count": null,
      "outputs": [
        {
          "output_type": "stream",
          "name": "stdout",
          "text": [
            "[[127244     60     16      0]\n",
            " [ 23891     25      7      0]\n",
            " [ 94746     10      6      0]\n",
            " ...\n",
            " [498432     65     15      0]\n",
            " [370915      5      4      1]\n",
            " [ 81993     65     14      0]]\n",
            "8315\n"
          ]
        }
      ]
    },
    {
      "cell_type": "markdown",
      "metadata": {
        "id": "2nB8clg7w0tY"
      },
      "source": [
        "13. Выведите процент \"простых\" рецептов в датасете"
      ]
    },
    {
      "cell_type": "code",
      "source": [
        "percent_easy = easy_number / len(everything[:,2]) * 100\n",
        "print(percent_easy)"
      ],
      "metadata": {
        "colab": {
          "base_uri": "https://localhost:8080/"
        },
        "id": "BSIMHGTAgq5D",
        "outputId": "1c25e602-ca16-4eba-cfad-f4b62eb7e361"
      },
      "execution_count": null,
      "outputs": [
        {
          "output_type": "stream",
          "name": "stdout",
          "text": [
            "8.315\n"
          ]
        }
      ]
    },
    {
      "cell_type": "markdown",
      "metadata": {
        "id": "HBCZP9BGw0tY"
      },
      "source": [
        "14. Разделим рецепты на группы по следующему правилу. Назовем рецепты короткими, если их продолжительность составляет менее 10 минут; стандартными, если их продолжительность составляет более 10, но менее 20 минут; и длинными, если их продолжительность составляет не менее 20 минут. Создайте трехмерный массив, где нулевая ось отвечает за номер группы (короткий, стандартный или длинный рецепт), первая ось - за сам рецепт и вторая ось - за характеристики рецепта. Выберите максимальное количество рецептов из каждой группы таким образом, чтобы было возможно сформировать трехмерный массив. Выведите форму полученного массива."
      ]
    }
  ],
  "metadata": {
    "kernelspec": {
      "display_name": "Python 3 (ipykernel)",
      "language": "python",
      "name": "python3"
    },
    "language_info": {
      "codemirror_mode": {
        "name": "ipython",
        "version": 3
      },
      "file_extension": ".py",
      "mimetype": "text/x-python",
      "name": "python",
      "nbconvert_exporter": "python",
      "pygments_lexer": "ipython3",
      "version": "3.9.12"
    },
    "colab": {
      "provenance": []
    }
  },
  "nbformat": 4,
  "nbformat_minor": 0
}